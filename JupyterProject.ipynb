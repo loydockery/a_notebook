{
 "cells": [
  {
   "cell_type": "markdown",
   "id": "1b80b16a-3275-432c-bc4b-8c5862cae597",
   "metadata": {},
   "source": [
    "# My Jupyter Notebook on IBM Watson Studio"
   ]
  },
  {
   "cell_type": "markdown",
   "id": "ef03240d-1f94-4789-8ee3-b83bd466b5c1",
   "metadata": {},
   "source": [
    "**Loy Dockery**\n",
    "Mechanical Engineer"
   ]
  },
  {
   "cell_type": "markdown",
   "id": "4b27eb7c-32f3-42fa-bb88-01d8ac301035",
   "metadata": {},
   "source": [
    "*I am interested in data science because I enjoy statistics and working with data in my current job. Also, because there is a good possibility of telework*"
   ]
  },
  {
   "cell_type": "markdown",
   "id": "96174d3f-ffa7-4c4c-8223-7875bc15d911",
   "metadata": {},
   "source": [
    "### The next cell adds two numbers together"
   ]
  },
  {
   "cell_type": "code",
   "execution_count": 3,
   "id": "121daec1-ca96-4612-8bc9-a789a2a7db44",
   "metadata": {},
   "outputs": [
    {
     "data": {
      "text/plain": [
       "4"
      ]
     },
     "execution_count": 3,
     "metadata": {},
     "output_type": "execute_result"
    }
   ],
   "source": [
    "2 + 2"
   ]
  },
  {
   "cell_type": "markdown",
   "id": "db88df4c-984d-4528-b12e-3a8188b93b95",
   "metadata": {},
   "source": [
    "---\n",
    "\n",
    "* Bulleted\n",
    "* List\n",
    "\n",
    "1. Numbered\n",
    "2. List"
   ]
  },
  {
   "cell_type": "code",
   "execution_count": null,
   "id": "574e61bb-6413-4886-bc89-9c379570758c",
   "metadata": {},
   "outputs": [],
   "source": []
  }
 ],
 "metadata": {
  "kernelspec": {
   "display_name": "Python 3 (ipykernel)",
   "language": "python",
   "name": "python3"
  },
  "language_info": {
   "codemirror_mode": {
    "name": "ipython",
    "version": 3
   },
   "file_extension": ".py",
   "mimetype": "text/x-python",
   "name": "python",
   "nbconvert_exporter": "python",
   "pygments_lexer": "ipython3",
   "version": "3.10.7"
  }
 },
 "nbformat": 4,
 "nbformat_minor": 5
}
